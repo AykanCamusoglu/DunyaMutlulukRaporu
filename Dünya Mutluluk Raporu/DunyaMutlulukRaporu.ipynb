{
 "cells": [
  {
   "cell_type": "code",
   "execution_count": 1,
   "id": "c67b9e47-a906-4663-8c07-4d4800a7815b",
   "metadata": {},
   "outputs": [],
   "source": [
    "import numpy as np\n",
    "import pandas as pd"
   ]
  },
  {
   "cell_type": "code",
   "execution_count": 2,
   "id": "1ff92bb1-a9e5-4412-8ace-8b0dda4d3552",
   "metadata": {},
   "outputs": [],
   "source": [
    "df2015 = pd.read_csv(\"Datasets/2015.csv\").copy()\n",
    "df2016 = pd.read_csv(\"Datasets/2016.csv\").copy()\n",
    "df2017 = pd.read_csv(\"Datasets/2017.csv\").copy()\n",
    "df2018 = pd.read_csv(\"Datasets/2018.csv\").copy()\n",
    "df2019 = pd.read_csv(\"Datasets/2019.csv\").copy()"
   ]
  },
  {
   "cell_type": "markdown",
   "id": "efe6d196-2148-4f4d-8960-63f9ebf870fe",
   "metadata": {},
   "source": [
    "Bu analiz patika orta seviye veri bilimi path'ı kapsamında yapılmıştır. Araştırılması istenenler aşağıda verilmiştir:\n",
    "\n",
    "Bu veri seti ilk kez 2012 yılında yayınlanan 155 ülkeyi mutluluk seviyelerine göre sıralayan dünya mutluluk raporlarından oluşmaktadır.\n",
    "\n",
    "Mutluluk seviyelerini belirlemek için 6 faktör -ekonomik üretim, sosyal destek, yaşam beklentisi, özgürlük, yolsuzluğun olmaması ve cömertlik - göz önüne alınmaktadır. Amaç günümüz dünyasında daha mutlu toplumlar oluşmasına katkı sağlamak için aşağıdaki gibi sorulara cevaplar arayabilmektir.\n",
    "\n",
    "+ Hangi ülkeler veya bölgeler genel mutlulukta ve mutluluğa katkıda bulunan altı faktörün her birinde en yüksek sırada yer alıyor?\n",
    "\n",
    "+ 2015-2016 ile 2016-2017 raporları arasında ülke sıralamaları veya puanları nasıl değişti?\n",
    "\n",
    "+ Herhangi bir ülke mutlulukta önemli bir artış veya azalma yaşadı mı?"
   ]
  },
  {
   "cell_type": "markdown",
   "id": "586a24b5-78db-4047-a377-3fd191bb4144",
   "metadata": {},
   "source": [
    "## Hangi Ülkeler Genel Mutlulukta ve Mutluluğa Katkıda Bulunan Altı Faktörün Her Birinde En Yüksek Sırada"
   ]
  },
  {
   "cell_type": "code",
   "execution_count": 82,
   "id": "6c26dc71-2a91-4eaf-8ab9-156634eda9b9",
   "metadata": {},
   "outputs": [],
   "source": [
    "dfs = [df2016.iloc[:10,0] , df2017.iloc[:10, 0], df2018.iloc[:10, 1], df2019.iloc[:10, 1]]"
   ]
  },
  {
   "cell_type": "code",
   "execution_count": 45,
   "id": "ff90f944-93e6-4fef-80dd-acda706a7ea7",
   "metadata": {},
   "outputs": [
    {
     "name": "stdout",
     "output_type": "stream",
     "text": [
      "['Canada' 'Denmark' 'Finland' 'Iceland' 'Netherlands' 'New Zealand'\n",
      " 'Norway' 'Sweden' 'Switzerland']\n"
     ]
    }
   ],
   "source": [
    "a = df2015.iloc[:10, 0]\n",
    "for i in dfs:\n",
    "    a = np.intersect1d(i, a)\n",
    "\n",
    "\n",
    "print(a)"
   ]
  },
  {
   "cell_type": "markdown",
   "id": "86f30cd4-2db2-4389-9f78-09191e2f6262",
   "metadata": {},
   "source": [
    "## Hangi Bölgeler Genel Mutlulukta ve Mutluluğa Katkıda Bulunan  6 Faktörün Her Birinde En Yüksek Sırada"
   ]
  },
  {
   "cell_type": "code",
   "execution_count": 4,
   "id": "4809219d-9add-49d9-99aa-bcd12c0d3f31",
   "metadata": {},
   "outputs": [
    {
     "data": {
      "text/plain": [
       "Index(['Country', 'Region', 'Happiness Rank', 'Happiness Score',\n",
       "       'Standard Error', 'Economy (GDP per Capita)', 'Family',\n",
       "       'Health (Life Expectancy)', 'Freedom', 'Trust (Government Corruption)',\n",
       "       'Generosity', 'Dystopia Residual'],\n",
       "      dtype='object')"
      ]
     },
     "execution_count": 4,
     "metadata": {},
     "output_type": "execute_result"
    }
   ],
   "source": [
    "df2015.columns"
   ]
  },
  {
   "cell_type": "code",
   "execution_count": 5,
   "id": "c93b9f0d-5e54-48d8-9c8a-b2d7b303c0dd",
   "metadata": {},
   "outputs": [
    {
     "data": {
      "text/plain": [
       "Index(['Country', 'Region', 'Happiness Rank', 'Happiness Score',\n",
       "       'Lower Confidence Interval', 'Upper Confidence Interval',\n",
       "       'Economy (GDP per Capita)', 'Family', 'Health (Life Expectancy)',\n",
       "       'Freedom', 'Trust (Government Corruption)', 'Generosity',\n",
       "       'Dystopia Residual'],\n",
       "      dtype='object')"
      ]
     },
     "execution_count": 5,
     "metadata": {},
     "output_type": "execute_result"
    }
   ],
   "source": [
    "df2016.columns"
   ]
  },
  {
   "cell_type": "code",
   "execution_count": 6,
   "id": "cd32a5e8-1dd6-4a6f-8726-5727a2b93067",
   "metadata": {},
   "outputs": [
    {
     "data": {
      "text/plain": [
       "Index(['Country', 'Happiness.Rank', 'Happiness.Score', 'Whisker.high',\n",
       "       'Whisker.low', 'Economy..GDP.per.Capita.', 'Family',\n",
       "       'Health..Life.Expectancy.', 'Freedom', 'Generosity',\n",
       "       'Trust..Government.Corruption.', 'Dystopia.Residual'],\n",
       "      dtype='object')"
      ]
     },
     "execution_count": 6,
     "metadata": {},
     "output_type": "execute_result"
    }
   ],
   "source": [
    "df2017.columns"
   ]
  },
  {
   "cell_type": "code",
   "execution_count": 7,
   "id": "419b4ede-9c1d-4d55-9ce5-c1b0ebe963df",
   "metadata": {},
   "outputs": [
    {
     "data": {
      "text/plain": [
       "Index(['Overall rank', 'Country or region', 'Score', 'GDP per capita',\n",
       "       'Social support', 'Healthy life expectancy',\n",
       "       'Freedom to make life choices', 'Generosity',\n",
       "       'Perceptions of corruption'],\n",
       "      dtype='object')"
      ]
     },
     "execution_count": 7,
     "metadata": {},
     "output_type": "execute_result"
    }
   ],
   "source": [
    "df2018.columns"
   ]
  },
  {
   "cell_type": "code",
   "execution_count": 8,
   "id": "e6392588-2bb4-4e07-a4eb-6d9215abeda4",
   "metadata": {},
   "outputs": [
    {
     "data": {
      "text/plain": [
       "Index(['Overall rank', 'Country or region', 'Score', 'GDP per capita',\n",
       "       'Social support', 'Healthy life expectancy',\n",
       "       'Freedom to make life choices', 'Generosity',\n",
       "       'Perceptions of corruption'],\n",
       "      dtype='object')"
      ]
     },
     "execution_count": 8,
     "metadata": {},
     "output_type": "execute_result"
    }
   ],
   "source": [
    "df2019.columns"
   ]
  },
  {
   "cell_type": "code",
   "execution_count": 57,
   "id": "c64689d2-72ce-4878-a29d-837d8dc32a60",
   "metadata": {
    "tags": []
   },
   "outputs": [],
   "source": [
    "df2019.rename(columns = {'Freedom to make life choices' : 'Freedom'}, inplace = True)"
   ]
  },
  {
   "cell_type": "code",
   "execution_count": 68,
   "id": "40819959-54d9-4661-aa0f-f2442401d0b2",
   "metadata": {
    "tags": []
   },
   "outputs": [],
   "source": [
    "df2018.rename(columns = {'Country or region' : 'Country'}, inplace = True)"
   ]
  },
  {
   "cell_type": "code",
   "execution_count": 52,
   "id": "71cdf8bd-5c76-420f-be7d-42a6625d0d34",
   "metadata": {
    "tags": []
   },
   "outputs": [],
   "source": [
    "df2018.rename(columns = {'Freedom to make life choices' : 'Freedom'}, inplace = True)"
   ]
  },
  {
   "cell_type": "code",
   "execution_count": 58,
   "id": "8eb068ba-a282-4858-aec2-bf4e1b43f2d4",
   "metadata": {},
   "outputs": [],
   "source": [
    "df2019.rename(columns = {'Country or region' : 'Country'}, inplace = True)"
   ]
  },
  {
   "cell_type": "code",
   "execution_count": 9,
   "id": "4a0a157c-497b-4ac3-b57a-2894e24546e3",
   "metadata": {},
   "outputs": [],
   "source": [
    "def make(col, c, x = 10):\n",
    "    c[0].sort_values(by = col, ascending = 0, inplace = True)\n",
    "    b = [c[0][:10]['Country']]\n",
    "    for i in range(1 , len(c)):\n",
    "        c[i].sort_values(by = col, ascending = 0, inplace = True)\n",
    "        a = c[i][:10]['Country']\n",
    "        b = np.intersect1d(b, a)\n",
    "        \n",
    "    print(b)\n",
    "        \n",
    "        \n",
    "    "
   ]
  },
  {
   "cell_type": "code",
   "execution_count": 147,
   "id": "55877f02-99e3-4250-b2e4-9d21e5ede512",
   "metadata": {},
   "outputs": [
    {
     "name": "stdout",
     "output_type": "stream",
     "text": [
      "['Cambodia' 'Denmark' 'Finland' 'Norway' 'Sweden' 'Uzbekistan']\n"
     ]
    }
   ],
   "source": [
    "make('Freedom', c)"
   ]
  },
  {
   "cell_type": "code",
   "execution_count": 54,
   "id": "7e446dc8-31b4-473e-be2a-da76cbfd4c94",
   "metadata": {},
   "outputs": [],
   "source": [
    "c = [df2015, df2016, df2017, df2018, df2019]"
   ]
  },
  {
   "cell_type": "markdown",
   "id": "b5831418-3d27-4943-ae27-ae21f10369ff",
   "metadata": {},
   "source": [
    "## Herhangi bir ülke mutlulukta önemli bir artış veya azalma yaşadı mı ?"
   ]
  },
  {
   "cell_type": "markdown",
   "id": "6051ae4c-6fa0-45f3-bf4b-b344c64d6f8f",
   "metadata": {},
   "source": [
    "Bu bilgiye ulaşmak için 2015 ve 2019'daki verilerimizi kullanacağız."
   ]
  },
  {
   "cell_type": "code",
   "execution_count": 62,
   "id": "c58c46c9-6a08-4edf-a532-4ccd9a32105c",
   "metadata": {},
   "outputs": [],
   "source": [
    "ddf2015 = df2015[['Country', 'Happiness Score']]\n",
    "ddf2019 = df2019[['Country', 'Score']]"
   ]
  },
  {
   "cell_type": "code",
   "execution_count": 64,
   "id": "d67642bf-35d0-4213-9e24-b808971a8513",
   "metadata": {},
   "outputs": [],
   "source": [
    "df = ddf2015.merge(ddf2019)"
   ]
  },
  {
   "cell_type": "code",
   "execution_count": 66,
   "id": "4b0509d9-adad-460d-af6b-a83b7f5be074",
   "metadata": {},
   "outputs": [],
   "source": [
    "df['Diff'] = df['Happiness Score'] - df['Score']"
   ]
  },
  {
   "cell_type": "code",
   "execution_count": 70,
   "id": "a452d41d-c901-47c0-b11f-96289dca56d4",
   "metadata": {},
   "outputs": [],
   "source": [
    "df.sort_values(by = 'Diff', inplace = True)"
   ]
  },
  {
   "cell_type": "code",
   "execution_count": 76,
   "id": "fbbdb6e3-b4f0-4b37-8aca-9ccbad224bb5",
   "metadata": {},
   "outputs": [
    {
     "name": "stdout",
     "output_type": "stream",
     "text": [
      "Benin\n",
      "Venezuela\n"
     ]
    }
   ],
   "source": [
    "#En fazla artmış olan ülke\n",
    "print(df.iloc[0, 0])\n",
    "#En çok azalmış olan ülke\n",
    "print(df.iloc[-1, 0])"
   ]
  },
  {
   "cell_type": "markdown",
   "id": "9630334b-1316-45e2-b9dc-c18a0eddbf7b",
   "metadata": {},
   "source": [
    "## 2015-2016 ile 2016-2017 raporları arasında ülke sıralamaları veya puanları nasıl değişti?"
   ]
  },
  {
   "cell_type": "code",
   "execution_count": 3,
   "id": "4be94feb-1c5f-46a0-ae9b-1c3d73db4426",
   "metadata": {},
   "outputs": [],
   "source": [
    "df1 = df2015[['Country', 'Happiness Rank']]"
   ]
  },
  {
   "cell_type": "code",
   "execution_count": 16,
   "id": "bc3b4551-bd73-4a69-88fd-25db68795f74",
   "metadata": {},
   "outputs": [
    {
     "data": {
      "text/html": [
       "<div>\n",
       "<style scoped>\n",
       "    .dataframe tbody tr th:only-of-type {\n",
       "        vertical-align: middle;\n",
       "    }\n",
       "\n",
       "    .dataframe tbody tr th {\n",
       "        vertical-align: top;\n",
       "    }\n",
       "\n",
       "    .dataframe thead th {\n",
       "        text-align: right;\n",
       "    }\n",
       "</style>\n",
       "<table border=\"1\" class=\"dataframe\">\n",
       "  <thead>\n",
       "    <tr style=\"text-align: right;\">\n",
       "      <th></th>\n",
       "      <th>Country</th>\n",
       "      <th>HR15</th>\n",
       "    </tr>\n",
       "  </thead>\n",
       "  <tbody>\n",
       "    <tr>\n",
       "      <th>0</th>\n",
       "      <td>Switzerland</td>\n",
       "      <td>1</td>\n",
       "    </tr>\n",
       "    <tr>\n",
       "      <th>1</th>\n",
       "      <td>Iceland</td>\n",
       "      <td>2</td>\n",
       "    </tr>\n",
       "    <tr>\n",
       "      <th>2</th>\n",
       "      <td>Denmark</td>\n",
       "      <td>3</td>\n",
       "    </tr>\n",
       "    <tr>\n",
       "      <th>3</th>\n",
       "      <td>Norway</td>\n",
       "      <td>4</td>\n",
       "    </tr>\n",
       "    <tr>\n",
       "      <th>4</th>\n",
       "      <td>Canada</td>\n",
       "      <td>5</td>\n",
       "    </tr>\n",
       "    <tr>\n",
       "      <th>...</th>\n",
       "      <td>...</td>\n",
       "      <td>...</td>\n",
       "    </tr>\n",
       "    <tr>\n",
       "      <th>153</th>\n",
       "      <td>Rwanda</td>\n",
       "      <td>154</td>\n",
       "    </tr>\n",
       "    <tr>\n",
       "      <th>154</th>\n",
       "      <td>Benin</td>\n",
       "      <td>155</td>\n",
       "    </tr>\n",
       "    <tr>\n",
       "      <th>155</th>\n",
       "      <td>Syria</td>\n",
       "      <td>156</td>\n",
       "    </tr>\n",
       "    <tr>\n",
       "      <th>156</th>\n",
       "      <td>Burundi</td>\n",
       "      <td>157</td>\n",
       "    </tr>\n",
       "    <tr>\n",
       "      <th>157</th>\n",
       "      <td>Togo</td>\n",
       "      <td>158</td>\n",
       "    </tr>\n",
       "  </tbody>\n",
       "</table>\n",
       "<p>158 rows × 2 columns</p>\n",
       "</div>"
      ],
      "text/plain": [
       "         Country  HR15\n",
       "0    Switzerland     1\n",
       "1        Iceland     2\n",
       "2        Denmark     3\n",
       "3         Norway     4\n",
       "4         Canada     5\n",
       "..           ...   ...\n",
       "153       Rwanda   154\n",
       "154        Benin   155\n",
       "155        Syria   156\n",
       "156      Burundi   157\n",
       "157         Togo   158\n",
       "\n",
       "[158 rows x 2 columns]"
      ]
     },
     "execution_count": 16,
     "metadata": {},
     "output_type": "execute_result"
    }
   ],
   "source": [
    "df1.rename(columns = {'Happiness Rank' : 'HR15'})"
   ]
  },
  {
   "cell_type": "code",
   "execution_count": 6,
   "id": "6dbca9b9-e93b-439c-b0fc-b1c7a1f896a9",
   "metadata": {},
   "outputs": [],
   "source": [
    "df2 = df2016[['Country', 'Happiness Rank']]"
   ]
  },
  {
   "cell_type": "code",
   "execution_count": 7,
   "id": "f7527eef-d399-499c-8d8c-3e0c70f7b8ce",
   "metadata": {},
   "outputs": [
    {
     "data": {
      "text/html": [
       "<div>\n",
       "<style scoped>\n",
       "    .dataframe tbody tr th:only-of-type {\n",
       "        vertical-align: middle;\n",
       "    }\n",
       "\n",
       "    .dataframe tbody tr th {\n",
       "        vertical-align: top;\n",
       "    }\n",
       "\n",
       "    .dataframe thead th {\n",
       "        text-align: right;\n",
       "    }\n",
       "</style>\n",
       "<table border=\"1\" class=\"dataframe\">\n",
       "  <thead>\n",
       "    <tr style=\"text-align: right;\">\n",
       "      <th></th>\n",
       "      <th>Country</th>\n",
       "      <th>Happiness.Rank</th>\n",
       "      <th>Happiness.Score</th>\n",
       "      <th>Whisker.high</th>\n",
       "      <th>Whisker.low</th>\n",
       "      <th>Economy..GDP.per.Capita.</th>\n",
       "      <th>Family</th>\n",
       "      <th>Health..Life.Expectancy.</th>\n",
       "      <th>Freedom</th>\n",
       "      <th>Generosity</th>\n",
       "      <th>Trust..Government.Corruption.</th>\n",
       "      <th>Dystopia.Residual</th>\n",
       "    </tr>\n",
       "  </thead>\n",
       "  <tbody>\n",
       "    <tr>\n",
       "      <th>0</th>\n",
       "      <td>Norway</td>\n",
       "      <td>1</td>\n",
       "      <td>7.537</td>\n",
       "      <td>7.594445</td>\n",
       "      <td>7.479556</td>\n",
       "      <td>1.616463</td>\n",
       "      <td>1.533524</td>\n",
       "      <td>0.796667</td>\n",
       "      <td>0.635423</td>\n",
       "      <td>0.362012</td>\n",
       "      <td>0.315964</td>\n",
       "      <td>2.277027</td>\n",
       "    </tr>\n",
       "    <tr>\n",
       "      <th>1</th>\n",
       "      <td>Denmark</td>\n",
       "      <td>2</td>\n",
       "      <td>7.522</td>\n",
       "      <td>7.581728</td>\n",
       "      <td>7.462272</td>\n",
       "      <td>1.482383</td>\n",
       "      <td>1.551122</td>\n",
       "      <td>0.792566</td>\n",
       "      <td>0.626007</td>\n",
       "      <td>0.355280</td>\n",
       "      <td>0.400770</td>\n",
       "      <td>2.313707</td>\n",
       "    </tr>\n",
       "    <tr>\n",
       "      <th>2</th>\n",
       "      <td>Iceland</td>\n",
       "      <td>3</td>\n",
       "      <td>7.504</td>\n",
       "      <td>7.622030</td>\n",
       "      <td>7.385970</td>\n",
       "      <td>1.480633</td>\n",
       "      <td>1.610574</td>\n",
       "      <td>0.833552</td>\n",
       "      <td>0.627163</td>\n",
       "      <td>0.475540</td>\n",
       "      <td>0.153527</td>\n",
       "      <td>2.322715</td>\n",
       "    </tr>\n",
       "    <tr>\n",
       "      <th>3</th>\n",
       "      <td>Switzerland</td>\n",
       "      <td>4</td>\n",
       "      <td>7.494</td>\n",
       "      <td>7.561772</td>\n",
       "      <td>7.426227</td>\n",
       "      <td>1.564980</td>\n",
       "      <td>1.516912</td>\n",
       "      <td>0.858131</td>\n",
       "      <td>0.620071</td>\n",
       "      <td>0.290549</td>\n",
       "      <td>0.367007</td>\n",
       "      <td>2.276716</td>\n",
       "    </tr>\n",
       "    <tr>\n",
       "      <th>4</th>\n",
       "      <td>Finland</td>\n",
       "      <td>5</td>\n",
       "      <td>7.469</td>\n",
       "      <td>7.527542</td>\n",
       "      <td>7.410458</td>\n",
       "      <td>1.443572</td>\n",
       "      <td>1.540247</td>\n",
       "      <td>0.809158</td>\n",
       "      <td>0.617951</td>\n",
       "      <td>0.245483</td>\n",
       "      <td>0.382612</td>\n",
       "      <td>2.430182</td>\n",
       "    </tr>\n",
       "  </tbody>\n",
       "</table>\n",
       "</div>"
      ],
      "text/plain": [
       "       Country  Happiness.Rank  Happiness.Score  Whisker.high  Whisker.low  \\\n",
       "0       Norway               1            7.537      7.594445     7.479556   \n",
       "1      Denmark               2            7.522      7.581728     7.462272   \n",
       "2      Iceland               3            7.504      7.622030     7.385970   \n",
       "3  Switzerland               4            7.494      7.561772     7.426227   \n",
       "4      Finland               5            7.469      7.527542     7.410458   \n",
       "\n",
       "   Economy..GDP.per.Capita.    Family  Health..Life.Expectancy.   Freedom  \\\n",
       "0                  1.616463  1.533524                  0.796667  0.635423   \n",
       "1                  1.482383  1.551122                  0.792566  0.626007   \n",
       "2                  1.480633  1.610574                  0.833552  0.627163   \n",
       "3                  1.564980  1.516912                  0.858131  0.620071   \n",
       "4                  1.443572  1.540247                  0.809158  0.617951   \n",
       "\n",
       "   Generosity  Trust..Government.Corruption.  Dystopia.Residual  \n",
       "0    0.362012                       0.315964           2.277027  \n",
       "1    0.355280                       0.400770           2.313707  \n",
       "2    0.475540                       0.153527           2.322715  \n",
       "3    0.290549                       0.367007           2.276716  \n",
       "4    0.245483                       0.382612           2.430182  "
      ]
     },
     "execution_count": 7,
     "metadata": {},
     "output_type": "execute_result"
    }
   ],
   "source": [
    "df2017.head()"
   ]
  },
  {
   "cell_type": "code",
   "execution_count": 8,
   "id": "94ac256d-4734-4835-8267-4cd6680512dc",
   "metadata": {},
   "outputs": [],
   "source": [
    "df3 = df2017[['Country', 'Happiness.Rank']]"
   ]
  },
  {
   "cell_type": "code",
   "execution_count": 13,
   "id": "dd8e6df7-d1f3-4921-91a5-124d220eaf4a",
   "metadata": {},
   "outputs": [
    {
     "data": {
      "text/html": [
       "<div>\n",
       "<style scoped>\n",
       "    .dataframe tbody tr th:only-of-type {\n",
       "        vertical-align: middle;\n",
       "    }\n",
       "\n",
       "    .dataframe tbody tr th {\n",
       "        vertical-align: top;\n",
       "    }\n",
       "\n",
       "    .dataframe thead th {\n",
       "        text-align: right;\n",
       "    }\n",
       "</style>\n",
       "<table border=\"1\" class=\"dataframe\">\n",
       "  <thead>\n",
       "    <tr style=\"text-align: right;\">\n",
       "      <th></th>\n",
       "      <th>Country</th>\n",
       "      <th>HR17</th>\n",
       "    </tr>\n",
       "  </thead>\n",
       "  <tbody>\n",
       "    <tr>\n",
       "      <th>0</th>\n",
       "      <td>Norway</td>\n",
       "      <td>1</td>\n",
       "    </tr>\n",
       "    <tr>\n",
       "      <th>1</th>\n",
       "      <td>Denmark</td>\n",
       "      <td>2</td>\n",
       "    </tr>\n",
       "    <tr>\n",
       "      <th>2</th>\n",
       "      <td>Iceland</td>\n",
       "      <td>3</td>\n",
       "    </tr>\n",
       "    <tr>\n",
       "      <th>3</th>\n",
       "      <td>Switzerland</td>\n",
       "      <td>4</td>\n",
       "    </tr>\n",
       "    <tr>\n",
       "      <th>4</th>\n",
       "      <td>Finland</td>\n",
       "      <td>5</td>\n",
       "    </tr>\n",
       "    <tr>\n",
       "      <th>...</th>\n",
       "      <td>...</td>\n",
       "      <td>...</td>\n",
       "    </tr>\n",
       "    <tr>\n",
       "      <th>150</th>\n",
       "      <td>Rwanda</td>\n",
       "      <td>151</td>\n",
       "    </tr>\n",
       "    <tr>\n",
       "      <th>151</th>\n",
       "      <td>Syria</td>\n",
       "      <td>152</td>\n",
       "    </tr>\n",
       "    <tr>\n",
       "      <th>152</th>\n",
       "      <td>Tanzania</td>\n",
       "      <td>153</td>\n",
       "    </tr>\n",
       "    <tr>\n",
       "      <th>153</th>\n",
       "      <td>Burundi</td>\n",
       "      <td>154</td>\n",
       "    </tr>\n",
       "    <tr>\n",
       "      <th>154</th>\n",
       "      <td>Central African Republic</td>\n",
       "      <td>155</td>\n",
       "    </tr>\n",
       "  </tbody>\n",
       "</table>\n",
       "<p>155 rows × 2 columns</p>\n",
       "</div>"
      ],
      "text/plain": [
       "                      Country  HR17\n",
       "0                      Norway     1\n",
       "1                     Denmark     2\n",
       "2                     Iceland     3\n",
       "3                 Switzerland     4\n",
       "4                     Finland     5\n",
       "..                        ...   ...\n",
       "150                    Rwanda   151\n",
       "151                     Syria   152\n",
       "152                  Tanzania   153\n",
       "153                   Burundi   154\n",
       "154  Central African Republic   155\n",
       "\n",
       "[155 rows x 2 columns]"
      ]
     },
     "execution_count": 13,
     "metadata": {},
     "output_type": "execute_result"
    }
   ],
   "source": [
    "df3.rename(columns = {'Happiness.Rank' : 'HR17'})"
   ]
  },
  {
   "cell_type": "code",
   "execution_count": 10,
   "id": "a86a08a8-69af-4783-9669-a52a88021340",
   "metadata": {},
   "outputs": [
    {
     "data": {
      "text/html": [
       "<div>\n",
       "<style scoped>\n",
       "    .dataframe tbody tr th:only-of-type {\n",
       "        vertical-align: middle;\n",
       "    }\n",
       "\n",
       "    .dataframe tbody tr th {\n",
       "        vertical-align: top;\n",
       "    }\n",
       "\n",
       "    .dataframe thead th {\n",
       "        text-align: right;\n",
       "    }\n",
       "</style>\n",
       "<table border=\"1\" class=\"dataframe\">\n",
       "  <thead>\n",
       "    <tr style=\"text-align: right;\">\n",
       "      <th></th>\n",
       "      <th>Country</th>\n",
       "      <th>HR16</th>\n",
       "    </tr>\n",
       "  </thead>\n",
       "  <tbody>\n",
       "    <tr>\n",
       "      <th>0</th>\n",
       "      <td>Denmark</td>\n",
       "      <td>1</td>\n",
       "    </tr>\n",
       "    <tr>\n",
       "      <th>1</th>\n",
       "      <td>Switzerland</td>\n",
       "      <td>2</td>\n",
       "    </tr>\n",
       "    <tr>\n",
       "      <th>2</th>\n",
       "      <td>Iceland</td>\n",
       "      <td>3</td>\n",
       "    </tr>\n",
       "    <tr>\n",
       "      <th>3</th>\n",
       "      <td>Norway</td>\n",
       "      <td>4</td>\n",
       "    </tr>\n",
       "    <tr>\n",
       "      <th>4</th>\n",
       "      <td>Finland</td>\n",
       "      <td>5</td>\n",
       "    </tr>\n",
       "    <tr>\n",
       "      <th>...</th>\n",
       "      <td>...</td>\n",
       "      <td>...</td>\n",
       "    </tr>\n",
       "    <tr>\n",
       "      <th>152</th>\n",
       "      <td>Benin</td>\n",
       "      <td>153</td>\n",
       "    </tr>\n",
       "    <tr>\n",
       "      <th>153</th>\n",
       "      <td>Afghanistan</td>\n",
       "      <td>154</td>\n",
       "    </tr>\n",
       "    <tr>\n",
       "      <th>154</th>\n",
       "      <td>Togo</td>\n",
       "      <td>155</td>\n",
       "    </tr>\n",
       "    <tr>\n",
       "      <th>155</th>\n",
       "      <td>Syria</td>\n",
       "      <td>156</td>\n",
       "    </tr>\n",
       "    <tr>\n",
       "      <th>156</th>\n",
       "      <td>Burundi</td>\n",
       "      <td>157</td>\n",
       "    </tr>\n",
       "  </tbody>\n",
       "</table>\n",
       "<p>157 rows × 2 columns</p>\n",
       "</div>"
      ],
      "text/plain": [
       "         Country  HR16\n",
       "0        Denmark     1\n",
       "1    Switzerland     2\n",
       "2        Iceland     3\n",
       "3         Norway     4\n",
       "4        Finland     5\n",
       "..           ...   ...\n",
       "152        Benin   153\n",
       "153  Afghanistan   154\n",
       "154         Togo   155\n",
       "155        Syria   156\n",
       "156      Burundi   157\n",
       "\n",
       "[157 rows x 2 columns]"
      ]
     },
     "execution_count": 10,
     "metadata": {},
     "output_type": "execute_result"
    }
   ],
   "source": [
    "df2.rename(columns = {'Happiness Rank' :'HR16'})"
   ]
  },
  {
   "cell_type": "code",
   "execution_count": 21,
   "id": "3a583801-576e-4793-90ce-c6d1454d6c8b",
   "metadata": {},
   "outputs": [],
   "source": [
    "HR = df1.merge(df2, how = 'outer').merge(df3, how = 'outer')"
   ]
  },
  {
   "cell_type": "code",
   "execution_count": 23,
   "id": "ab767493-6afc-41a0-ab68-2d10b0b9ddf2",
   "metadata": {},
   "outputs": [
    {
     "data": {
      "text/html": [
       "<div>\n",
       "<style scoped>\n",
       "    .dataframe tbody tr th:only-of-type {\n",
       "        vertical-align: middle;\n",
       "    }\n",
       "\n",
       "    .dataframe tbody tr th {\n",
       "        vertical-align: top;\n",
       "    }\n",
       "\n",
       "    .dataframe thead th {\n",
       "        text-align: right;\n",
       "    }\n",
       "</style>\n",
       "<table border=\"1\" class=\"dataframe\">\n",
       "  <thead>\n",
       "    <tr style=\"text-align: right;\">\n",
       "      <th></th>\n",
       "      <th>Country</th>\n",
       "      <th>Happiness Rank</th>\n",
       "      <th>HR16</th>\n",
       "      <th>Happiness.Rank</th>\n",
       "    </tr>\n",
       "  </thead>\n",
       "  <tbody>\n",
       "    <tr>\n",
       "      <th>0</th>\n",
       "      <td>Switzerland</td>\n",
       "      <td>1.0</td>\n",
       "      <td>2.0</td>\n",
       "      <td>4.0</td>\n",
       "    </tr>\n",
       "    <tr>\n",
       "      <th>1</th>\n",
       "      <td>Iceland</td>\n",
       "      <td>2.0</td>\n",
       "      <td>3.0</td>\n",
       "      <td>3.0</td>\n",
       "    </tr>\n",
       "    <tr>\n",
       "      <th>2</th>\n",
       "      <td>Denmark</td>\n",
       "      <td>3.0</td>\n",
       "      <td>1.0</td>\n",
       "      <td>2.0</td>\n",
       "    </tr>\n",
       "    <tr>\n",
       "      <th>3</th>\n",
       "      <td>Norway</td>\n",
       "      <td>4.0</td>\n",
       "      <td>4.0</td>\n",
       "      <td>1.0</td>\n",
       "    </tr>\n",
       "    <tr>\n",
       "      <th>4</th>\n",
       "      <td>Canada</td>\n",
       "      <td>5.0</td>\n",
       "      <td>6.0</td>\n",
       "      <td>7.0</td>\n",
       "    </tr>\n",
       "    <tr>\n",
       "      <th>...</th>\n",
       "      <td>...</td>\n",
       "      <td>...</td>\n",
       "      <td>...</td>\n",
       "      <td>...</td>\n",
       "    </tr>\n",
       "    <tr>\n",
       "      <th>161</th>\n",
       "      <td>Somaliland Region</td>\n",
       "      <td>NaN</td>\n",
       "      <td>97.0</td>\n",
       "      <td>NaN</td>\n",
       "    </tr>\n",
       "    <tr>\n",
       "      <th>162</th>\n",
       "      <td>Namibia</td>\n",
       "      <td>NaN</td>\n",
       "      <td>113.0</td>\n",
       "      <td>111.0</td>\n",
       "    </tr>\n",
       "    <tr>\n",
       "      <th>163</th>\n",
       "      <td>South Sudan</td>\n",
       "      <td>NaN</td>\n",
       "      <td>143.0</td>\n",
       "      <td>147.0</td>\n",
       "    </tr>\n",
       "    <tr>\n",
       "      <th>164</th>\n",
       "      <td>Taiwan Province of China</td>\n",
       "      <td>NaN</td>\n",
       "      <td>NaN</td>\n",
       "      <td>33.0</td>\n",
       "    </tr>\n",
       "    <tr>\n",
       "      <th>165</th>\n",
       "      <td>Hong Kong S.A.R., China</td>\n",
       "      <td>NaN</td>\n",
       "      <td>NaN</td>\n",
       "      <td>71.0</td>\n",
       "    </tr>\n",
       "  </tbody>\n",
       "</table>\n",
       "<p>166 rows × 4 columns</p>\n",
       "</div>"
      ],
      "text/plain": [
       "                      Country  Happiness Rank   HR16  Happiness.Rank\n",
       "0                 Switzerland             1.0    2.0             4.0\n",
       "1                     Iceland             2.0    3.0             3.0\n",
       "2                     Denmark             3.0    1.0             2.0\n",
       "3                      Norway             4.0    4.0             1.0\n",
       "4                      Canada             5.0    6.0             7.0\n",
       "..                        ...             ...    ...             ...\n",
       "161         Somaliland Region             NaN   97.0             NaN\n",
       "162                   Namibia             NaN  113.0           111.0\n",
       "163               South Sudan             NaN  143.0           147.0\n",
       "164  Taiwan Province of China             NaN    NaN            33.0\n",
       "165   Hong Kong S.A.R., China             NaN    NaN            71.0\n",
       "\n",
       "[166 rows x 4 columns]"
      ]
     },
     "execution_count": 23,
     "metadata": {},
     "output_type": "execute_result"
    }
   ],
   "source": [
    "HR"
   ]
  },
  {
   "cell_type": "markdown",
   "id": "f38b3c02-716b-43d0-a070-ca8d15796bef",
   "metadata": {},
   "source": []
  }
 ],
 "metadata": {
  "kernelspec": {
   "display_name": "Python 3 (ipykernel)",
   "language": "python",
   "name": "python3"
  },
  "language_info": {
   "codemirror_mode": {
    "name": "ipython",
    "version": 3
   },
   "file_extension": ".py",
   "mimetype": "text/x-python",
   "name": "python",
   "nbconvert_exporter": "python",
   "pygments_lexer": "ipython3",
   "version": "3.10.9"
  }
 },
 "nbformat": 4,
 "nbformat_minor": 5
}
